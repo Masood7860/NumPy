{
 "cells": [
  {
   "cell_type": "raw",
   "id": "15e8fc76",
   "metadata": {},
   "source": [
    "NumPy is a Python library."
   ]
  },
  {
   "cell_type": "raw",
   "id": "6af8ea92",
   "metadata": {},
   "source": [
    "NumPy is used for working with arrays."
   ]
  },
  {
   "cell_type": "raw",
   "id": "42d99771",
   "metadata": {},
   "source": [
    "NumPy is short for \"Numerical Python\"."
   ]
  },
  {
   "cell_type": "markdown",
   "id": "12670bba",
   "metadata": {},
   "source": [
    "# Learning by Reading"
   ]
  },
  {
   "cell_type": "raw",
   "id": "4d4e916a",
   "metadata": {},
   "source": [
    "We have created 43 tutorial pages for you to learn more about NumPy."
   ]
  },
  {
   "cell_type": "raw",
   "id": "9ebdb261",
   "metadata": {},
   "source": [
    "Starting with a basic introduction and ends up with creating and plotting random data sets, and working with NumPy functions:"
   ]
  },
  {
   "cell_type": "code",
   "execution_count": 1,
   "id": "1393251b",
   "metadata": {},
   "outputs": [
    {
     "data": {
      "text/plain": [
       "array([1, 2, 3, 4, 5])"
      ]
     },
     "execution_count": 1,
     "metadata": {},
     "output_type": "execute_result"
    }
   ],
   "source": [
    "# Insert the correct method for creating a NumPy array.\n",
    "\n",
    "import numpy as np\n",
    "\n",
    "arr = np.array([1, 2, 3, 4, 5])\n",
    "arr"
   ]
  },
  {
   "cell_type": "code",
   "execution_count": 2,
   "id": "ba53dd48",
   "metadata": {},
   "outputs": [
    {
     "data": {
      "text/plain": [
       "array([[1, 2, 3, 4]])"
      ]
     },
     "execution_count": 2,
     "metadata": {},
     "output_type": "execute_result"
    }
   ],
   "source": [
    "# Insert the correct argument for creating a NumPy array with 2 dimensions.\n",
    "\n",
    "\n",
    "arr = np.array([1, 2, 3, 4],ndmin =2)\n",
    "arr"
   ]
  },
  {
   "cell_type": "code",
   "execution_count": 3,
   "id": "d0c15fef",
   "metadata": {},
   "outputs": [
    {
     "name": "stdout",
     "output_type": "stream",
     "text": [
      "1\n"
     ]
    }
   ],
   "source": [
    "# Insert the correct syntax for checking the number of dimension of a NumPy array.\n",
    "\n",
    "\n",
    "arr = np.array([1, 2, 3, 4])\n",
    "\n",
    "print(arr.ndim)"
   ]
  }
 ],
 "metadata": {
  "kernelspec": {
   "display_name": "Python 3",
   "language": "python",
   "name": "python3"
  },
  "language_info": {
   "codemirror_mode": {
    "name": "ipython",
    "version": 3
   },
   "file_extension": ".py",
   "mimetype": "text/x-python",
   "name": "python",
   "nbconvert_exporter": "python",
   "pygments_lexer": "ipython3",
   "version": "3.8.8"
  }
 },
 "nbformat": 4,
 "nbformat_minor": 5
}
