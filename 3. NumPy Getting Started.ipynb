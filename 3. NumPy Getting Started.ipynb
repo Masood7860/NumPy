{
 "cells": [
  {
   "cell_type": "markdown",
   "id": "73fb6d32",
   "metadata": {},
   "source": [
    "# Installation of NumPy"
   ]
  },
  {
   "cell_type": "raw",
   "id": "99008dbc",
   "metadata": {},
   "source": [
    "If you have Python and PIP already installed on a system, then installation of NumPy is very easy."
   ]
  },
  {
   "cell_type": "raw",
   "id": "9f684cab",
   "metadata": {},
   "source": [
    "Install it using this command:"
   ]
  },
  {
   "cell_type": "raw",
   "id": "a4cb87b2",
   "metadata": {},
   "source": [
    "C:\\Users\\Your Name>pip install numpy"
   ]
  },
  {
   "cell_type": "raw",
   "id": "d59fc3ac",
   "metadata": {},
   "source": [
    "If this command fails, then use a python distribution that already has NumPy installed like, Anaconda, Spyder etc."
   ]
  },
  {
   "cell_type": "markdown",
   "id": "734053ba",
   "metadata": {},
   "source": [
    "# Import NumPy"
   ]
  },
  {
   "cell_type": "raw",
   "id": "f91f0983",
   "metadata": {},
   "source": [
    "Once NumPy is installed, import it in your applications by adding the import keyword:"
   ]
  },
  {
   "cell_type": "code",
   "execution_count": 1,
   "id": "0c64f929",
   "metadata": {},
   "outputs": [],
   "source": [
    "import numpy"
   ]
  },
  {
   "cell_type": "raw",
   "id": "8e39670f",
   "metadata": {},
   "source": [
    "Now NumPy is imported and ready to use."
   ]
  },
  {
   "cell_type": "code",
   "execution_count": 2,
   "id": "0072c9cc",
   "metadata": {},
   "outputs": [
    {
     "name": "stdout",
     "output_type": "stream",
     "text": [
      "[1 2 3 4 5]\n"
     ]
    }
   ],
   "source": [
    "import numpy\n",
    "\n",
    "arr = numpy.array([1, 2, 3, 4, 5])\n",
    "\n",
    "print(arr)"
   ]
  },
  {
   "cell_type": "raw",
   "id": "569ed4c5",
   "metadata": {},
   "source": [
    "NumPy as np"
   ]
  },
  {
   "cell_type": "raw",
   "id": "b8c24076",
   "metadata": {},
   "source": [
    "NumPy is usually imported under the np alias."
   ]
  },
  {
   "cell_type": "raw",
   "id": "d33e3ee2",
   "metadata": {},
   "source": [
    "alias: In Python alias are an alternate name for referring to the same thing."
   ]
  },
  {
   "cell_type": "raw",
   "id": "1f9c4eec",
   "metadata": {},
   "source": [
    "Create an alias with the as keyword while importing:"
   ]
  },
  {
   "cell_type": "code",
   "execution_count": 3,
   "id": "a638d453",
   "metadata": {},
   "outputs": [],
   "source": [
    "import numpy as np"
   ]
  },
  {
   "cell_type": "raw",
   "id": "656148e8",
   "metadata": {},
   "source": [
    "Now the NumPy package can be referred to as np instead of numpy."
   ]
  },
  {
   "cell_type": "code",
   "execution_count": 4,
   "id": "5899f83c",
   "metadata": {},
   "outputs": [
    {
     "name": "stdout",
     "output_type": "stream",
     "text": [
      "[1 2 3 4 5]\n"
     ]
    }
   ],
   "source": [
    "import numpy as np\n",
    "\n",
    "arr = np.array([1, 2, 3, 4, 5])\n",
    "\n",
    "print(arr)"
   ]
  },
  {
   "cell_type": "code",
   "execution_count": 5,
   "id": "f48705fc",
   "metadata": {},
   "outputs": [
    {
     "name": "stdout",
     "output_type": "stream",
     "text": [
      "1.20.1\n"
     ]
    }
   ],
   "source": [
    "import numpy as np\n",
    "\n",
    "print(np.__version__)"
   ]
  }
 ],
 "metadata": {
  "kernelspec": {
   "display_name": "Python 3",
   "language": "python",
   "name": "python3"
  },
  "language_info": {
   "codemirror_mode": {
    "name": "ipython",
    "version": 3
   },
   "file_extension": ".py",
   "mimetype": "text/x-python",
   "name": "python",
   "nbconvert_exporter": "python",
   "pygments_lexer": "ipython3",
   "version": "3.8.8"
  }
 },
 "nbformat": 4,
 "nbformat_minor": 5
}
