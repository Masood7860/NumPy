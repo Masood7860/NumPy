{
 "cells": [
  {
   "cell_type": "markdown",
   "id": "988c4e98",
   "metadata": {},
   "source": [
    "# Data Types in Python"
   ]
  },
  {
   "cell_type": "raw",
   "id": "258022c0",
   "metadata": {},
   "source": [
    "By default Python have these data types:\n",
    "\n",
    "    strings - used to represent text data, the text is given under quote marks. e.g. \"ABCD\"\n",
    "    integer - used to represent integer numbers. e.g. -1, -2, -3\n",
    "    float - used to represent real numbers. e.g. 1.2, 42.42\n",
    "    boolean - used to represent True or False.\n",
    "    complex - used to represent complex numbers. e.g. 1.0 + 2.0j, 1.5 + 2.5j"
   ]
  },
  {
   "cell_type": "markdown",
   "id": "0127c963",
   "metadata": {},
   "source": [
    "# Data Types in NumPy"
   ]
  },
  {
   "cell_type": "raw",
   "id": "fad26f13",
   "metadata": {},
   "source": [
    "NumPy has some extra data types, and refer to data types with one character, like i for integers, u for unsigned integers etc."
   ]
  },
  {
   "cell_type": "raw",
   "id": "ed82bb23",
   "metadata": {},
   "source": [
    "Below is a list of all data types in NumPy and the characters used to represent them.\n",
    "\n",
    "    i - integer\n",
    "    b - boolean\n",
    "    u - unsigned integer\n",
    "    f - float\n",
    "    c - complex float\n",
    "    m - timedelta\n",
    "    M - datetime\n",
    "    O - object\n",
    "    S - string\n",
    "    U - unicode string\n",
    "    V - fixed chunk of memory for other type ( void )"
   ]
  },
  {
   "cell_type": "markdown",
   "id": "f438605a",
   "metadata": {},
   "source": [
    "# Checking the Data Type of an Array"
   ]
  },
  {
   "cell_type": "raw",
   "id": "9554c49c",
   "metadata": {},
   "source": [
    "The NumPy array object has a property called dtype that returns the data type of the array:"
   ]
  },
  {
   "cell_type": "code",
   "execution_count": 1,
   "id": "04a8fc57",
   "metadata": {},
   "outputs": [
    {
     "name": "stdout",
     "output_type": "stream",
     "text": [
      "int32\n"
     ]
    }
   ],
   "source": [
    "# Get the data type of an array object:\n",
    "\n",
    "import numpy as np\n",
    "\n",
    "arr = np.array([1, 2, 3, 4])\n",
    "\n",
    "print(arr.dtype) "
   ]
  },
  {
   "cell_type": "code",
   "execution_count": 2,
   "id": "307a2487",
   "metadata": {},
   "outputs": [
    {
     "name": "stdout",
     "output_type": "stream",
     "text": [
      "<U6\n"
     ]
    }
   ],
   "source": [
    "# Get the data type of an array containing strings:\n",
    "\n",
    "import numpy as np\n",
    "\n",
    "arr = np.array(['apple', 'banana', 'cherry'])\n",
    "\n",
    "print(arr.dtype) "
   ]
  },
  {
   "cell_type": "markdown",
   "id": "01b60733",
   "metadata": {},
   "source": [
    "# Creating Arrays With a Defined Data Type"
   ]
  },
  {
   "cell_type": "raw",
   "id": "c945ca61",
   "metadata": {},
   "source": [
    "We use the array() function to create arrays, this function can take an optional argument: dtype that allows us to define the expected data type of the array elements:"
   ]
  },
  {
   "cell_type": "code",
   "execution_count": 3,
   "id": "f809a467",
   "metadata": {},
   "outputs": [
    {
     "name": "stdout",
     "output_type": "stream",
     "text": [
      "[b'1' b'2' b'3' b'4']\n",
      "|S1\n"
     ]
    }
   ],
   "source": [
    "# Create an array with data type string:\n",
    "\n",
    "import numpy as np\n",
    "\n",
    "arr = np.array([1, 2, 3, 4], dtype='S')\n",
    "\n",
    "print(arr)\n",
    "print(arr.dtype) "
   ]
  },
  {
   "cell_type": "raw",
   "id": "8f3585f8",
   "metadata": {},
   "source": [
    "For i, u, f, S and U we can define size as well."
   ]
  },
  {
   "cell_type": "code",
   "execution_count": 4,
   "id": "702a7f92",
   "metadata": {},
   "outputs": [
    {
     "name": "stdout",
     "output_type": "stream",
     "text": [
      "[1 2 3 4]\n",
      "int32\n"
     ]
    }
   ],
   "source": [
    "# Create an array with data type 4 bytes integer:\n",
    "\n",
    "import numpy as np\n",
    "\n",
    "arr = np.array([1, 2, 3, 4], dtype='i4')\n",
    "\n",
    "print(arr)\n",
    "print(arr.dtype) "
   ]
  },
  {
   "cell_type": "markdown",
   "id": "360c9094",
   "metadata": {},
   "source": [
    "# What if a Value Can Not Be Converted?"
   ]
  },
  {
   "cell_type": "raw",
   "id": "91ddd4f5",
   "metadata": {},
   "source": [
    "If a type is given in which elements can't be casted then NumPy will raise a ValueError."
   ]
  },
  {
   "cell_type": "raw",
   "id": "3c1aec8b",
   "metadata": {},
   "source": [
    "ValueError: In Python ValueError is raised when the type of passed argument to a function is unexpected/incorrect."
   ]
  },
  {
   "cell_type": "code",
   "execution_count": 5,
   "id": "9d037907",
   "metadata": {},
   "outputs": [
    {
     "ename": "ValueError",
     "evalue": "invalid literal for int() with base 10: 'a'",
     "output_type": "error",
     "traceback": [
      "\u001b[1;31m---------------------------------------------------------------------------\u001b[0m",
      "\u001b[1;31mValueError\u001b[0m                                Traceback (most recent call last)",
      "\u001b[1;32m<ipython-input-5-b118119e6b83>\u001b[0m in \u001b[0;36m<module>\u001b[1;34m\u001b[0m\n\u001b[0;32m      3\u001b[0m \u001b[1;32mimport\u001b[0m \u001b[0mnumpy\u001b[0m \u001b[1;32mas\u001b[0m \u001b[0mnp\u001b[0m\u001b[1;33m\u001b[0m\u001b[1;33m\u001b[0m\u001b[0m\n\u001b[0;32m      4\u001b[0m \u001b[1;33m\u001b[0m\u001b[0m\n\u001b[1;32m----> 5\u001b[1;33m \u001b[0marr\u001b[0m \u001b[1;33m=\u001b[0m \u001b[0mnp\u001b[0m\u001b[1;33m.\u001b[0m\u001b[0marray\u001b[0m\u001b[1;33m(\u001b[0m\u001b[1;33m[\u001b[0m\u001b[1;34m'a'\u001b[0m\u001b[1;33m,\u001b[0m \u001b[1;34m'2'\u001b[0m\u001b[1;33m,\u001b[0m \u001b[1;34m'3'\u001b[0m\u001b[1;33m]\u001b[0m\u001b[1;33m,\u001b[0m \u001b[0mdtype\u001b[0m\u001b[1;33m=\u001b[0m\u001b[1;34m'i'\u001b[0m\u001b[1;33m)\u001b[0m\u001b[1;33m\u001b[0m\u001b[1;33m\u001b[0m\u001b[0m\n\u001b[0m",
      "\u001b[1;31mValueError\u001b[0m: invalid literal for int() with base 10: 'a'"
     ]
    }
   ],
   "source": [
    "# A non integer string like 'a' can not be converted to integer (will raise an error):\n",
    "\n",
    "import numpy as np\n",
    "\n",
    "arr = np.array(['a', '2', '3'], dtype='i') "
   ]
  },
  {
   "cell_type": "markdown",
   "id": "910a441c",
   "metadata": {},
   "source": [
    "# Converting Data Type on Existing Arrays"
   ]
  },
  {
   "cell_type": "raw",
   "id": "0120ead2",
   "metadata": {},
   "source": [
    "The best way to change the data type of an existing array, is to make a copy of the array with the astype() method."
   ]
  },
  {
   "cell_type": "raw",
   "id": "faae8ec3",
   "metadata": {},
   "source": [
    "The astype() function creates a copy of the array, and allows you to specify the data type as a parameter."
   ]
  },
  {
   "cell_type": "raw",
   "id": "fefb9e7d",
   "metadata": {},
   "source": [
    "The data type can be specified using a string, like 'f' for float, 'i' for integer etc. or you can use the data type directly like float for float and int for integer."
   ]
  },
  {
   "cell_type": "code",
   "execution_count": 6,
   "id": "77be4ec5",
   "metadata": {},
   "outputs": [
    {
     "name": "stdout",
     "output_type": "stream",
     "text": [
      "[1 2 3]\n",
      "int32\n"
     ]
    }
   ],
   "source": [
    "# Change data type from float to integer by using 'i' as parameter value:\n",
    "\n",
    "import numpy as np\n",
    "\n",
    "arr = np.array([1.1, 2.1, 3.1])\n",
    "\n",
    "newarr = arr.astype('i')\n",
    "\n",
    "print(newarr)\n",
    "print(newarr.dtype) "
   ]
  },
  {
   "cell_type": "code",
   "execution_count": 7,
   "id": "db257e5d",
   "metadata": {},
   "outputs": [
    {
     "name": "stdout",
     "output_type": "stream",
     "text": [
      "[1 2 3]\n",
      "int32\n"
     ]
    }
   ],
   "source": [
    "# Change data type from float to integer by using int as parameter value:\n",
    "\n",
    "import numpy as np\n",
    "\n",
    "arr = np.array([1.1, 2.1, 3.1])\n",
    "\n",
    "newarr = arr.astype(int)\n",
    "\n",
    "print(newarr)\n",
    "print(newarr.dtype) "
   ]
  },
  {
   "cell_type": "code",
   "execution_count": 9,
   "id": "e3303b95",
   "metadata": {},
   "outputs": [
    {
     "name": "stdout",
     "output_type": "stream",
     "text": [
      "[ True False  True]\n",
      "bool\n"
     ]
    }
   ],
   "source": [
    "# Change data type from integer to boolean:\n",
    "\n",
    "import numpy as np\n",
    "\n",
    "arr = np.array([1, 0, 3])\n",
    "\n",
    "newarr = arr.astype(bool)\n",
    "\n",
    "print(newarr)\n",
    "print(newarr.dtype) "
   ]
  },
  {
   "cell_type": "raw",
   "id": "10521f71",
   "metadata": {},
   "source": [
    "NumPy uses a character to represent each of the following data types, which one?\n",
    "\n",
    "\n",
    "i = integer\n",
    "b = boolean\n",
    "u = unsigned integer\n",
    "f = float\n",
    "c = complex float\n",
    "m = timedelta\n",
    "M = datetime\n",
    "O = object\n",
    "S = string"
   ]
  },
  {
   "cell_type": "code",
   "execution_count": 10,
   "id": "18a65e47",
   "metadata": {},
   "outputs": [
    {
     "name": "stdout",
     "output_type": "stream",
     "text": [
      "int32\n"
     ]
    }
   ],
   "source": [
    "# Insert the correct NumPy syntax to print the data type of an array.\n",
    "\n",
    "arr = np.array([1, 2, 3, 4])\n",
    "\n",
    "print(arr.dtype)"
   ]
  },
  {
   "cell_type": "code",
   "execution_count": 11,
   "id": "6c8f2f5c",
   "metadata": {},
   "outputs": [],
   "source": [
    "# Insert the correct argument to specify that the array should be of type STRING.\n",
    "\n",
    "arr = np.array([1, 2, 3, 4], dtype='S' )"
   ]
  },
  {
   "cell_type": "code",
   "execution_count": 12,
   "id": "58e80d2e",
   "metadata": {},
   "outputs": [],
   "source": [
    "# Insert the correct method to change the data type to integer.\n",
    "\n",
    "\n",
    "arr = np.array([1.1, 2.1, 3.1])\n",
    "\n",
    "newarr = arr.astype('i')"
   ]
  }
 ],
 "metadata": {
  "kernelspec": {
   "display_name": "Python 3",
   "language": "python",
   "name": "python3"
  },
  "language_info": {
   "codemirror_mode": {
    "name": "ipython",
    "version": 3
   },
   "file_extension": ".py",
   "mimetype": "text/x-python",
   "name": "python",
   "nbconvert_exporter": "python",
   "pygments_lexer": "ipython3",
   "version": "3.8.8"
  }
 },
 "nbformat": 4,
 "nbformat_minor": 5
}
