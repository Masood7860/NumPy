{
 "cells": [
  {
   "cell_type": "markdown",
   "id": "6224cc53",
   "metadata": {},
   "source": [
    "# NumPy Introduction"
   ]
  },
  {
   "cell_type": "markdown",
   "id": "408df998",
   "metadata": {},
   "source": [
    "# What is NumPy?"
   ]
  },
  {
   "cell_type": "raw",
   "id": "79d98266",
   "metadata": {},
   "source": [
    "NumPy is a Python library used for working with arrays."
   ]
  },
  {
   "cell_type": "raw",
   "id": "a230088f",
   "metadata": {},
   "source": [
    "It also has functions for working in domain of linear algebra, fourier transform, and matrices."
   ]
  },
  {
   "cell_type": "raw",
   "id": "c93d8863",
   "metadata": {},
   "source": [
    "NumPy was created in 2005 by Travis Oliphant. It is an open source project and you can use it freely."
   ]
  },
  {
   "cell_type": "raw",
   "id": "1fa161f1",
   "metadata": {},
   "source": [
    "NumPy stands for Numerical Python."
   ]
  },
  {
   "cell_type": "markdown",
   "id": "6a4be183",
   "metadata": {},
   "source": [
    "# Why Use NumPy?"
   ]
  },
  {
   "cell_type": "raw",
   "id": "5c3f1374",
   "metadata": {},
   "source": [
    "In Python we have lists that serve the purpose of arrays, but they are slow to process."
   ]
  },
  {
   "cell_type": "raw",
   "id": "135fd6d5",
   "metadata": {},
   "source": [
    "NumPy aims to provide an array object that is up to 50x faster than traditional Python lists."
   ]
  },
  {
   "cell_type": "raw",
   "id": "996c0bcd",
   "metadata": {},
   "source": [
    "The array object in NumPy is called ndarray, it provides a lot of supporting functions that make working with ndarray very easy."
   ]
  },
  {
   "cell_type": "raw",
   "id": "31e3816d",
   "metadata": {},
   "source": [
    "Arrays are very frequently used in data science, where speed and resources are very important."
   ]
  },
  {
   "cell_type": "raw",
   "id": "a37cca18",
   "metadata": {},
   "source": [
    "Data Science: is a branch of computer science where we study how to store, use and analyze data for deriving information from it."
   ]
  },
  {
   "cell_type": "markdown",
   "id": "046c70f9",
   "metadata": {},
   "source": [
    "# Why is NumPy Faster Than Lists?"
   ]
  },
  {
   "cell_type": "raw",
   "id": "0d05e847",
   "metadata": {},
   "source": [
    "NumPy arrays are stored at one continuous place in memory unlike lists, so processes can access and manipulate them very efficiently."
   ]
  },
  {
   "cell_type": "raw",
   "id": "bb66360a",
   "metadata": {},
   "source": [
    "This behavior is called locality of reference in computer science."
   ]
  },
  {
   "cell_type": "raw",
   "id": "4593ae71",
   "metadata": {},
   "source": [
    "This is the main reason why NumPy is faster than lists. Also it is optimized to work with latest CPU architectures."
   ]
  },
  {
   "cell_type": "markdown",
   "id": "d8b1e40c",
   "metadata": {},
   "source": [
    "# Which Language is NumPy written in?"
   ]
  },
  {
   "cell_type": "raw",
   "id": "52a79a91",
   "metadata": {},
   "source": [
    "NumPy is a Python library and is written partially in Python, but most of the parts that require fast computation are written in C or C++."
   ]
  },
  {
   "cell_type": "markdown",
   "id": "276ddb07",
   "metadata": {},
   "source": [
    "# Where is the NumPy Codebase?"
   ]
  },
  {
   "cell_type": "raw",
   "id": "ad3a583e",
   "metadata": {},
   "source": [
    "The source code for NumPy is located at this github repository https://github.com/numpy/numpy"
   ]
  },
  {
   "cell_type": "raw",
   "id": "e4eff4e4",
   "metadata": {},
   "source": [
    "github: enables many people to work on the same codebase."
   ]
  }
 ],
 "metadata": {
  "kernelspec": {
   "display_name": "Python 3",
   "language": "python",
   "name": "python3"
  },
  "language_info": {
   "codemirror_mode": {
    "name": "ipython",
    "version": 3
   },
   "file_extension": ".py",
   "mimetype": "text/x-python",
   "name": "python",
   "nbconvert_exporter": "python",
   "pygments_lexer": "ipython3",
   "version": "3.8.8"
  }
 },
 "nbformat": 4,
 "nbformat_minor": 5
}
